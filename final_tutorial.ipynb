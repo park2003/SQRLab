{
 "cells": [
  {
   "cell_type": "code",
   "execution_count": 1,
   "id": "b797d578",
   "metadata": {},
   "outputs": [
    {
     "name": "stderr",
     "output_type": "stream",
     "text": [
      "\u001b[32m\u001b[1m   Resolving\u001b[22m\u001b[39m package versions...\n",
      "\u001b[32m\u001b[1m  No Changes\u001b[22m\u001b[39m to `C:\\Users\\jewoo\\.julia\\environments\\v1.10\\Project.toml`\n",
      "\u001b[32m\u001b[1m  No Changes\u001b[22m\u001b[39m to `C:\\Users\\jewoo\\.julia\\environments\\v1.10\\Manifest.toml`\n",
      "\u001b[32m\u001b[1mPrecompiling\u001b[22m\u001b[39m packages...\n",
      "   8983.1 ms\u001b[32m  ✓ \u001b[39mIonSim\n",
      "  1 dependency successfully precompiled in 13 seconds. 414 already precompiled.\n",
      "\u001b[32m\u001b[1m   Resolving\u001b[22m\u001b[39m package versions...\n",
      "\u001b[32m\u001b[1m  No Changes\u001b[22m\u001b[39m to `C:\\Users\\jewoo\\.julia\\environments\\v1.10\\Project.toml`\n",
      "\u001b[32m\u001b[1m  No Changes\u001b[22m\u001b[39m to `C:\\Users\\jewoo\\.julia\\environments\\v1.10\\Manifest.toml`\n",
      "\u001b[32m\u001b[1m   Resolving\u001b[22m\u001b[39m package versions...\n",
      "\u001b[32m\u001b[1m  No Changes\u001b[22m\u001b[39m to `C:\\Users\\jewoo\\.julia\\environments\\v1.10\\Project.toml`\n",
      "\u001b[32m\u001b[1m  No Changes\u001b[22m\u001b[39m to `C:\\Users\\jewoo\\.julia\\environments\\v1.10\\Manifest.toml`\n"
     ]
    }
   ],
   "source": [
    "import Pkg\n",
    "Pkg.add(\"Revise\")\n",
    "Pkg.add(\"IonSim\")\n",
    "Pkg.add(\"QuantumOptics\")\n",
    "using Revise\n",
    "using IonSim\n",
    "using QuantumOptics: timeevolution, stochastic, Basis"
   ]
  },
  {
   "cell_type": "code",
   "execution_count": 3,
   "id": "14720c57",
   "metadata": {},
   "outputs": [
    {
     "name": "stdout",
     "output_type": "stream",
     "text": [
      "\u001b[32m\u001b[1mStatus\u001b[22m\u001b[39m `C:\\Users\\jewoo\\.julia\\environments\\v1.10\\Project.toml`\n",
      "\u001b[32m⌃\u001b[39m \u001b[90m[717857b8] \u001b[39mDSP v0.7.10\n",
      "  \u001b[90m[7073ff75] \u001b[39mIJulia v1.29.0\n",
      "  \u001b[90m[511e77fe] \u001b[39mIonSim v0.5.1\n",
      "\u001b[32m⌃\u001b[39m \u001b[90m[429524aa] \u001b[39mOptim v1.11.0\n",
      "  \u001b[90m[6e0679c1] \u001b[39mQuantumOptics v1.2.3\n",
      "  \u001b[90m[295af30f] \u001b[39mRevise v3.8.0\n",
      "  \u001b[90m[789caeaf] \u001b[39mStochasticDiffEq v6.80.0\n",
      "\u001b[36m\u001b[1mInfo\u001b[22m\u001b[39m Packages marked with \u001b[32m⌃\u001b[39m have new versions available and may be upgradable.\n"
     ]
    }
   ],
   "source": [
    "]status"
   ]
  },
  {
   "cell_type": "code",
   "execution_count": 4,
   "id": "64e77bcd",
   "metadata": {},
   "outputs": [
    {
     "name": "stderr",
     "output_type": "stream",
     "text": [
      "\u001b[32m\u001b[1m   Resolving\u001b[22m\u001b[39m package versions...\n",
      "\u001b[32m\u001b[1m  No Changes\u001b[22m\u001b[39m to `C:\\Users\\jewoo\\.julia\\environments\\v1.10\\Project.toml`\n",
      "\u001b[32m\u001b[1m  No Changes\u001b[22m\u001b[39m to `C:\\Users\\jewoo\\.julia\\environments\\v1.10\\Manifest.toml`\n",
      "\u001b[32m\u001b[1m   Resolving\u001b[22m\u001b[39m package versions...\n",
      "\u001b[32m\u001b[1m  No Changes\u001b[22m\u001b[39m to `C:\\Users\\jewoo\\.julia\\environments\\v1.10\\Project.toml`\n",
      "\u001b[32m\u001b[1m  No Changes\u001b[22m\u001b[39m to `C:\\Users\\jewoo\\.julia\\environments\\v1.10\\Manifest.toml`\n"
     ]
    }
   ],
   "source": [
    "using Pkg\n",
    "Pkg.add(\"StochasticDiffEq\")\n",
    "Pkg.add(\"DSP\")"
   ]
  },
  {
   "cell_type": "code",
   "execution_count": 5,
   "id": "0c3da433",
   "metadata": {},
   "outputs": [
    {
     "name": "stdout",
     "output_type": "stream",
     "text": [
      "true"
     ]
    }
   ],
   "source": [
    "ca = Ca40([(\"S1/2\", -1/2), (\"D5/2\", -1/2)])\n",
    "print(typeof(ca) <: Ion)"
   ]
  },
  {
   "cell_type": "code",
   "execution_count": 6,
   "id": "35b87ccc",
   "metadata": {},
   "outputs": [
    {
     "name": "stdout",
     "output_type": "stream",
     "text": [
      "true"
     ]
    }
   ],
   "source": [
    "chain = LinearChain(\n",
    "        ions=[ca],\n",
    "        comfrequencies=(x=3e6,y=3e6,z=1e6), \n",
    "        selectedmodes=(;z=[1])\n",
    "    )\n",
    "print(typeof(chain) <: IonTrap)"
   ]
  },
  {
   "cell_type": "code",
   "execution_count": 7,
   "id": "764a507a",
   "metadata": {},
   "outputs": [
    {
     "name": "stdout",
     "output_type": "stream",
     "text": [
      "λ: missing m\n",
      "Δ: 0 Hz\n",
      "̂ϵ: (x=0.7071067811865475, y=0.7071067811865475, z=0.0)\n",
      "k̂: (x=0, y=0, z=1)\n",
      "I(t=0): 0 W/m²\n",
      "ϕ(t=0): 0.0 ⋅ 2π\n"
     ]
    }
   ],
   "source": [
    "laser = Laser()\n",
    "print(laser)"
   ]
  },
  {
   "cell_type": "code",
   "execution_count": 9,
   "id": "a3d17573",
   "metadata": {},
   "outputs": [
    {
     "data": {
      "text/plain": [
       "1-element Vector{VibrationalMode}:\n",
       " VibrationalMode(ν=1.0e6, axis=ẑ, N=10)"
      ]
     },
     "execution_count": 9,
     "metadata": {},
     "output_type": "execute_result"
    }
   ],
   "source": [
    "modes(chain)"
   ]
  },
  {
   "cell_type": "code",
   "execution_count": 10,
   "id": "c7622cca",
   "metadata": {},
   "outputs": [],
   "source": [
    "chamber = Chamber(iontrap=chain, B=4e-4, Bhat=ẑ, δB=0, lasers=[laser]);"
   ]
  },
  {
   "cell_type": "code",
   "execution_count": 11,
   "id": "2983b3d3",
   "metadata": {},
   "outputs": [
    {
     "name": "stdout",
     "output_type": "stream",
     "text": [
      "true\n",
      "true\n",
      "true\n"
     ]
    }
   ],
   "source": [
    "println(IonSimBasis <: Basis)\n",
    "println(Ion <: IonSimBasis)\n",
    "println(VibrationalMode <: IonSimBasis)"
   ]
  },
  {
   "cell_type": "code",
   "execution_count": null,
   "id": "421f1674",
   "metadata": {},
   "outputs": [],
   "source": []
  }
 ],
 "metadata": {
  "kernelspec": {
   "display_name": "Julia 1.10.10",
   "language": "julia",
   "name": "julia-1.10"
  },
  "language_info": {
   "file_extension": ".jl",
   "mimetype": "application/julia",
   "name": "julia",
   "version": "1.10.10"
  }
 },
 "nbformat": 4,
 "nbformat_minor": 5
}
