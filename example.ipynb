{
 "cells": [
  {
   "cell_type": "code",
   "execution_count": 1,
   "id": "b38d4602",
   "metadata": {},
   "outputs": [],
   "source": [
    "using Revise\n",
    "using IonSim\n",
    "using QuantumOptics: timeevolution, stochastic, Basis"
   ]
  },
  {
   "cell_type": "code",
   "execution_count": 2,
   "id": "4522840c",
   "metadata": {},
   "outputs": [
    {
     "name": "stderr",
     "output_type": "stream",
     "text": [
      "\u001b[32m\u001b[1m   Resolving\u001b[22m\u001b[39m package versions...\n",
      "\u001b[32m\u001b[1m  No Changes\u001b[22m\u001b[39m to `C:\\Users\\jewoo\\.julia\\environments\\v1.10\\Project.toml`\n",
      "\u001b[32m\u001b[1m  No Changes\u001b[22m\u001b[39m to `C:\\Users\\jewoo\\.julia\\environments\\v1.10\\Manifest.toml`\n",
      "\u001b[32m\u001b[1m   Resolving\u001b[22m\u001b[39m package versions...\n",
      "\u001b[32m\u001b[1m  No Changes\u001b[22m\u001b[39m to `C:\\Users\\jewoo\\.julia\\environments\\v1.10\\Project.toml`\n",
      "\u001b[32m\u001b[1m  No Changes\u001b[22m\u001b[39m to `C:\\Users\\jewoo\\.julia\\environments\\v1.10\\Manifest.toml`\n"
     ]
    }
   ],
   "source": [
    "using Pkg\n",
    "Pkg.add(\"StochasticDiffEq\")\n",
    "Pkg.add(\"DSP\")"
   ]
  },
  {
   "cell_type": "code",
   "execution_count": 3,
   "id": "57d4b208",
   "metadata": {},
   "outputs": [],
   "source": [
    "import PyPlot\n",
    "const plt = PyPlot;"
   ]
  },
  {
   "cell_type": "code",
   "execution_count": 4,
   "id": "f1f84bc7",
   "metadata": {},
   "outputs": [
    {
     "name": "stdout",
     "output_type": "stream",
     "text": [
      "true"
     ]
    }
   ],
   "source": [
    "ca = Ca40([(\"S1/2\", -1/2), (\"D5/2\", -1/2)])\n",
    "print(typeof(ca) <: Ion)"
   ]
  },
  {
   "cell_type": "code",
   "execution_count": 5,
   "id": "e3a9b533",
   "metadata": {},
   "outputs": [
    {
     "name": "stdout",
     "output_type": "stream",
     "text": [
      "⁴⁰Ca\n",
      "(\"S1/2\", -1//2): \"S\"\n",
      "(\"D5/2\", -1//2): \"D\"\n"
     ]
    }
   ],
   "source": [
    "ca = Ca40([(\"S1/2\", -1/2, \"S\"), (\"D5/2\", -1/2, \"D\")])\n",
    "print(ca)"
   ]
  },
  {
   "cell_type": "code",
   "execution_count": 6,
   "id": "cb97cd33",
   "metadata": {},
   "outputs": [
    {
     "name": "stdout",
     "output_type": "stream",
     "text": [
      "λ: missing m\n",
      "Δ: 0 Hz\n",
      "̂ϵ: (x=0.7071067811865475, y=0.7071067811865475, z=0.0)\n",
      "k̂: (x=0, y=0, z=1)\n",
      "I(t=0): 0 W/m²\n",
      "ϕ(t=0): 0.0 ⋅ 2π\n"
     ]
    }
   ],
   "source": [
    "laser = Laser()\n",
    "print(laser)"
   ]
  },
  {
   "cell_type": "code",
   "execution_count": 1,
   "id": "37f1c8b9",
   "metadata": {},
   "outputs": [
    {
     "ename": "LoadError",
     "evalue": "UndefVarError: `ca` not defined",
     "output_type": "error",
     "traceback": [
      "UndefVarError: `ca` not defined",
      "",
      "Stacktrace:",
      " [1] top-level scope",
      "\u001b[90m   @\u001b[39m \u001b[90m\u001b[4mIn[1]:1\u001b[24m\u001b[39m"
     ]
    }
   ],
   "source": [
    "chain = LinearChain(\n",
    "        ions=[ca],\n",
    "        comfrequencies=(x=3e6,y=3e6,z=1e6), \n",
    "        selectedmodes=(;z=[1])\n",
    "    )\n",
    "print(typeof(chain) <: IonTrap)"
   ]
  },
  {
   "cell_type": "code",
   "execution_count": null,
   "id": "de0e9514",
   "metadata": {},
   "outputs": [],
   "source": [
    "modes(chain)"
   ]
  },
  {
   "cell_type": "code",
   "execution_count": null,
   "id": "64d4802c",
   "metadata": {},
   "outputs": [],
   "source": [
    "chamber = Chamber(iontrap=chain, B=4e-4, Bhat=ẑ, δB=0, lasers=[laser]);"
   ]
  },
  {
   "cell_type": "code",
   "execution_count": null,
   "id": "8babf42c",
   "metadata": {},
   "outputs": [],
   "source": [
    "println(IonSimBasis <: Basis)\n",
    "println(Ion <: IonSimBasis)\n",
    "println(VibrationalMode <: IonSimBasis)"
   ]
  },
  {
   "cell_type": "code",
   "execution_count": null,
   "id": "2143c0b4",
   "metadata": {},
   "outputs": [],
   "source": [
    "basis(chamber)"
   ]
  },
  {
   "cell_type": "code",
   "execution_count": null,
   "id": "9498b31b",
   "metadata": {},
   "outputs": [],
   "source": [
    "λ = transitionwavelength(ca, (\"S\", \"D\"), chamber)\n",
    "wavelength!(laser, λ)\n",
    "\n",
    "print(wavelength(laser))"
   ]
  },
  {
   "cell_type": "code",
   "execution_count": null,
   "id": "af093861",
   "metadata": {},
   "outputs": [],
   "source": [
    "wavelength_from_transition!(laser, ca, (\"S\", \"D\"), chamber)"
   ]
  },
  {
   "cell_type": "code",
   "execution_count": null,
   "id": "c741c80d",
   "metadata": {},
   "outputs": [],
   "source": [
    "polarization!(laser, (x̂ - ẑ)/√2)\n",
    "wavevector!(laser, (x̂ + ẑ)/√2);"
   ]
  },
  {
   "cell_type": "code",
   "execution_count": null,
   "id": "a4b2a70a",
   "metadata": {},
   "outputs": [],
   "source": [
    "intensity_from_pitime!(laser, 2e-6, ca, (\"S\", \"D\"), chamber);  # Sets pi_time to 2 μs"
   ]
  },
  {
   "cell_type": "code",
   "execution_count": null,
   "id": "d74e6684",
   "metadata": {},
   "outputs": [],
   "source": [
    "h = hamiltonian(chamber, timescale=1e-6);"
   ]
  },
  {
   "cell_type": "code",
   "execution_count": null,
   "id": "c30e31af",
   "metadata": {},
   "outputs": [],
   "source": [
    "ion = ions(chamber)[1]\n",
    "\n",
    "ψ0_ion_1 = ion[\"S\"]\n",
    "ψ0_ion_2 = ion[(\"S1/2\", -1/2)]\n",
    "ψ0_ion_3 = ionstate(ion, \"S\")\n",
    "\n",
    "print(ψ0_ion_1)"
   ]
  },
  {
   "cell_type": "code",
   "execution_count": null,
   "id": "332ae175",
   "metadata": {},
   "outputs": [],
   "source": [
    "ψ0_ion_1 == ψ0_ion_2 == ψ0_ion_3"
   ]
  },
  {
   "cell_type": "code",
   "execution_count": null,
   "id": "dc9cd878",
   "metadata": {},
   "outputs": [],
   "source": [
    "mode = modes(chamber)[1]\n",
    "\n",
    "ψ0_mode_1 = mode[0]\n",
    "ψ0_mode_2 = fockstate(mode, 0)\n",
    "ψ0_mode_3 = groundstate(mode)\n",
    "\n",
    "print(ψ0_mode_1)"
   ]
  },
  {
   "cell_type": "code",
   "execution_count": null,
   "id": "95c4d64e",
   "metadata": {},
   "outputs": [],
   "source": [
    "ψ0 = ion[\"S\"] ⊗ mode[0];"
   ]
  },
  {
   "cell_type": "code",
   "execution_count": null,
   "id": "99b5bec1",
   "metadata": {},
   "outputs": [],
   "source": [
    "tout, sol = timeevolution.schroedinger_dynamic(tspan = (0,10), ψ0, h)\n",
    "\n",
    "ex = expect(ionprojector(chamber, \"D\"), sol)\n",
    "plt.plot(tout, ex)\n",
    "plt.xlim(tout[1], tout[end])\n",
    "plt.ylim(0, 1)\n",
    "plt.ylabel(\"Excitation\")\n",
    "plt.xlabel(\"Time (μs)\");"
   ]
  },
  {
   "cell_type": "code",
   "execution_count": null,
   "id": "0e9c0c03",
   "metadata": {},
   "outputs": [],
   "source": []
  },
  {
   "cell_type": "code",
   "execution_count": 35,
   "id": "f47eab51",
   "metadata": {},
   "outputs": [
    {
     "name": "stdout",
     "output_type": "stream",
     "text": [
      "Ket(dim=11)\n",
      "  basis: VibrationalMode(ν=1.0e6, axis=ẑ, N=10)\n",
      " 1.0 + 0.0im\n",
      " 0.0 + 0.0im\n",
      " 0.0 + 0.0im\n",
      " 0.0 + 0.0im\n",
      " 0.0 + 0.0im\n",
      " 0.0 + 0.0im\n",
      " 0.0 + 0.0im\n",
      " 0.0 + 0.0im\n",
      " 0.0 + 0.0im\n",
      " 0.0 + 0.0im\n",
      " 0.0 + 0.0im"
     ]
    },
    {
     "data": {
      "image/png": "[encoded data removed]",
      "text/plain": [
       "Figure(PyObject <Figure size 1000x600 with 1 Axes>)"
      ]
     },
     "metadata": {},
     "output_type": "display_data"
    }
   ],
   "source": [
    "# 1. Import necessary libraries\n",
    "using IonSim\n",
    "using QuantumOptics\n",
    "using PyPlot # Using PyPlot for plotting, as it interfaces with Python's Matplotlib\n",
    "\n",
    "# 2. Define the Physical System\n",
    "# Define the ion species and the energy levels for the qubit\n",
    "# We'll use Calcium-40, with the qubit encoded in the S1/2 and D5/2 levels.\n",
    "C = Ca40([(\"S1/2\", -1/2, \"g\"),(\"D5/2\", -1/2, \"e\")])\n",
    "# Create aliases for the qubit states for easier access\n",
    "#set_sublevel_alias!(C, Dict(\"g\" => (\"S1/2\", -1/2), \"e\" => (\"D5/2\", -1/2)))\n",
    "\n",
    "# Define the trap configuration. We'll model a single ion in a linear chain\n",
    "# with a 1 MHz axial motional frequency.\n",
    "chain = LinearChain(\n",
    "    ions=[C],\n",
    "    comfrequencies=(x=3e6, y=3e6, z=1e6),\n",
    "    selectedmodes=(;z=[1]) # We only consider the axial mode of motion\n",
    ")\n",
    "\n",
    "# Define the laser that will drive the transition\n",
    "L = Laser()\n",
    "\n",
    "# Combine all components into a single Trap object, which represents the full experiment\n",
    "# This is the main object that holds the entire state of our physical system.\n",
    "T = Chamber(\n",
    "    iontrap=chain,\n",
    "    B=4e-4,              # Magnetic field in Tesla\n",
    "    Bhat=ẑ,              # Magnetic field direction\n",
    "    lasers=[L]\n",
    ")\n",
    "\n",
    "# 3. Define Experiment and Pulse Parameters\n",
    "# Set the laser properties. The Pulse(T, w, I, phi, t) parameters from your\n",
    "# request are set here as properties of the laser object.\n",
    "# 'w' (frequency) is set by Δ (detuning) and λ (wavelength).\n",
    "# 'I' (intensity) is set by E (E-field amplitude).\n",
    "# 'phi' is set by L.ϕ.\n",
    "# 't' (time-dependence) is handled by the solver over a time span `tspan`.\n",
    "\n",
    "###############\n",
    "#L.k = (x̂ + ẑ)/√2       # Laser wavevector\n",
    "#L.ϵ = (x̂ - ẑ)/√2       # Laser polarization\n",
    "#L.λ = transitionwavelength(C, (\"g\", \"e\"), T) # Set laser wavelength to be resonant with the transition\n",
    "\n",
    "wavelength_from_transition!(L, C, (\"g\", \"e\"), T) \n",
    "polarization!(L, (x̂ - ẑ)/√2)\n",
    "wavevector!(L, (x̂ + ẑ)/√2);\n",
    "\n",
    "# For a carrier transition, we set the detuning to zero.\n",
    "##L.Δ = 0.0\n",
    "\n",
    "# Set the laser intensity by defining the electric field amplitude.\n",
    "# A convenient way to do this is to specify the desired \"pi-time\" (the time\n",
    "# for a full population flop from |g> to |e>). Let's aim for a 2.5 µs pi-time.\n",
    "# This corresponds to a Rabi Frequency of Ω = π / (2.5e-6) = (2π) * 200 kHz.\n",
    "pi_time = 2e-6\n",
    "#E_amplitude = 1000000 #Efield_from_pi_time(pi_time, T, 1, 1, (\"g\", \"e\"))\n",
    "#intensity!(L, t->E_amplitude) # This sets a constant (square) pulse\n",
    "\n",
    "intensity_from_pitime!(L, 2e6, C, (\"g\", \"e\"), T);\n",
    "\n",
    "# 4. Construct Hamiltonian and Run Simulation\n",
    "# Set the Hilbert space dimension for the motional mode (max number of phonons)\n",
    "mode = modes(T)[1]\n",
    "#mode.N = 10\n",
    "\n",
    "# Construct the time-independent Hamiltonian for the system\n",
    "# For a simple square pulse, the Hamiltonian is not time-dependent.\n",
    "# We set a high rwa_cutoff to ensure all terms are included.\n",
    "H = hamiltonian(T, rwa_cutoff=Inf)\n",
    "\n",
    "\n",
    "# Define the initial state: ion in the ground state |g⟩ and motional mode in\n",
    "# the ground state |0⟩.\n",
    "ψ_mode = fockstate(mode, 0)\n",
    "ψ₀ = C[\"g\"] ⊗ ψ_mode\n",
    "\n",
    "ψ0_mode_1 = mode[0]\n",
    "ψ0_mode_2 = fockstate(mode, 0)\n",
    "ψ0_mode_3 = groundstate(mode)\n",
    "\n",
    "print(ψ0_mode_1)\n",
    "ψ0 = C[\"g\"] ⊗ mode[0];\n",
    "\n",
    "# Define the time span for the simulation. We'll run it for two pi-times (5 µs)\n",
    "# to see a full Rabi flop.\n",
    "#tspan = 0:0.05e-6:5e-6\n",
    "\n",
    "t_cal_max = 50e-6 \n",
    "tspan = 0:t_cal_max/1000:t_cal_max\n",
    "# Solve the time evolution using the Schrödinger equation solver from QuantumOptics.jl\n",
    "tout, sol = timeevolution.schroedinger_dynamic(tspan, ψ0, H)\n",
    "\n",
    "# 5. Analyze and Visualize the Results\n",
    "# Calculate the population in the excited state |e⟩ over time\n",
    "excited_pop = expect(ionprojector(T, \"e\"), sol)\n",
    "\n",
    "# Create the plot using PyPlot\n",
    "figure(figsize=(10, 6))\n",
    "plot(tout.* 1e6, real.(excited_pop), label=\"Excited State Population\", color=\"C0\", linewidth=2)\n",
    "xlabel(\"Time (μs)\")\n",
    "ylabel(\"Population\")\n",
    "title(\"Carrier Rabi Oscillations\")\n",
    "ylim(0, 1.05)\n",
    "grid(true, linestyle=\"--\")\n",
    "legend()\n",
    "show()"
   ]
  },
  {
   "cell_type": "code",
   "execution_count": null,
   "id": "56e20465",
   "metadata": {},
   "outputs": [],
   "source": []
  }
 ],
 "metadata": {
  "kernelspec": {
   "display_name": "Julia 1.10.10",
   "language": "julia",
   "name": "julia-1.10"
  },
  "language_info": {
   "file_extension": ".jl",
   "mimetype": "application/julia",
   "name": "julia",
   "version": "1.10.10"
  }
 },
 "nbformat": 4,
 "nbformat_minor": 5
}
